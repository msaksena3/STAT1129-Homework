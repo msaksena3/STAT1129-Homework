{
 "cells": [
  {
   "cell_type": "markdown",
   "id": "18e624a2",
   "metadata": {},
   "source": [
    "Question 1"
   ]
  },
  {
   "cell_type": "code",
   "execution_count": 6,
   "id": "21cbe1e7",
   "metadata": {},
   "outputs": [
    {
     "name": "stdout",
     "output_type": "stream",
     "text": [
      "0\n",
      "1\n",
      "2\n",
      "3\n",
      "4\n"
     ]
    }
   ],
   "source": [
    "n=0\n",
    "while n< 10:\n",
    "    print (n)\n",
    "    n= n+1\n",
    "    if n==5:\n",
    "        break"
   ]
  },
  {
   "cell_type": "markdown",
   "id": "c34a0ecf",
   "metadata": {},
   "source": [
    "Question 2"
   ]
  },
  {
   "cell_type": "code",
   "execution_count": 7,
   "id": "fe6c9cd9",
   "metadata": {},
   "outputs": [
    {
     "name": "stdout",
     "output_type": "stream",
     "text": [
      "0\n",
      "1\n",
      "2\n",
      "3\n",
      "4\n",
      "5 is not less than 5\n"
     ]
    }
   ],
   "source": [
    "n=0\n",
    "while n<5:\n",
    "    print (n)\n",
    "    n= n+1\n",
    "else:\n",
    "    print (n, 'is not less than 5')"
   ]
  },
  {
   "cell_type": "markdown",
   "id": "1e06d45e",
   "metadata": {},
   "source": [
    "Question 3"
   ]
  },
  {
   "cell_type": "code",
   "execution_count": 9,
   "id": "2c9e7c3c",
   "metadata": {},
   "outputs": [
    {
     "name": "stdout",
     "output_type": "stream",
     "text": [
      "i like mango\n",
      "i like pineapple\n",
      "i like strawberry\n",
      "apple is really a fruit?\n"
     ]
    }
   ],
   "source": [
    "fruits = ['mango','pineapple','strawberry','apple','grape']\n",
    "for i in fruits:\n",
    "    if i=='apple':\n",
    "        break\n",
    "    print ('i like',i)\n",
    "print('apple is really a fruit?')"
   ]
  },
  {
   "cell_type": "markdown",
   "id": "b3731dbf",
   "metadata": {},
   "source": [
    "Question 4"
   ]
  },
  {
   "cell_type": "code",
   "execution_count": 1,
   "id": "27589a14",
   "metadata": {},
   "outputs": [
    {
     "name": "stdout",
     "output_type": "stream",
     "text": [
      "465\n"
     ]
    }
   ],
   "source": [
    "n=1\n",
    "total=0\n",
    "while n<31:\n",
    "    total=total+n\n",
    "    n+=1\n",
    "print(total)"
   ]
  },
  {
   "cell_type": "markdown",
   "id": "2beb7061",
   "metadata": {},
   "source": [
    "Question 5"
   ]
  },
  {
   "cell_type": "code",
   "execution_count": 2,
   "id": "789470b2",
   "metadata": {},
   "outputs": [
    {
     "name": "stdout",
     "output_type": "stream",
     "text": [
      "B\n"
     ]
    }
   ],
   "source": [
    "grade=82\n",
    "if grade>=90:\n",
    "    print('A')\n",
    "elif grade>=80:\n",
    "    print('B')\n",
    "elif grade>=70:\n",
    "    print('C')\n",
    "elif grade>=60:\n",
    "    print('D')\n",
    "else:\n",
    "    print('F')"
   ]
  },
  {
   "cell_type": "markdown",
   "id": "defc6064",
   "metadata": {},
   "source": [
    "Question 6"
   ]
  },
  {
   "cell_type": "code",
   "execution_count": 3,
   "id": "8a9cc51e",
   "metadata": {},
   "outputs": [],
   "source": [
    "marks={'Andy':88, 'Amy':66, 'James':90, 'Jules':55, 'Arthur':77}"
   ]
  },
  {
   "cell_type": "markdown",
   "id": "6d5478e9",
   "metadata": {},
   "source": [
    "Question 6.1"
   ]
  },
  {
   "cell_type": "code",
   "execution_count": 10,
   "id": "594b9797",
   "metadata": {},
   "outputs": [
    {
     "name": "stdout",
     "output_type": "stream",
     "text": [
      "Name Andy , Grade 88\n",
      "Name Amy , Grade 66\n",
      "Name James , Grade 90\n",
      "Name Jules , Grade 55\n",
      "Name Arthur , Grade 77\n"
     ]
    }
   ],
   "source": [
    "for j,i in marks.items():\n",
    "    print('Name',j,',','Grade',i)"
   ]
  },
  {
   "cell_type": "markdown",
   "id": "9e8d7dd3",
   "metadata": {},
   "source": [
    "Question 6.2"
   ]
  },
  {
   "cell_type": "code",
   "execution_count": 14,
   "id": "f02837f7",
   "metadata": {},
   "outputs": [
    {
     "name": "stdout",
     "output_type": "stream",
     "text": [
      "mean is 75.2\n",
      "max is 90\n",
      "min is 55\n"
     ]
    }
   ],
   "source": [
    "total=0\n",
    "for i in marks.values():\n",
    "    total+=i\n",
    "    \n",
    "print('mean is',total/len(marks))\n",
    "print('max is', max(marks.values()))\n",
    "print('min is',min(marks.values()))"
   ]
  },
  {
   "cell_type": "markdown",
   "id": "7a896679",
   "metadata": {},
   "source": [
    "Question 6.3"
   ]
  },
  {
   "cell_type": "code",
   "execution_count": 15,
   "id": "e3a8cc62",
   "metadata": {},
   "outputs": [
    {
     "name": "stdout",
     "output_type": "stream",
     "text": [
      "Andy\n",
      "Amy\n"
     ]
    }
   ],
   "source": [
    "for j in marks.keys():\n",
    "    if 'J' in j:\n",
    "        break\n",
    "    print(j)"
   ]
  },
  {
   "cell_type": "markdown",
   "id": "f1388cff",
   "metadata": {},
   "source": [
    "Question 6.4"
   ]
  },
  {
   "cell_type": "code",
   "execution_count": 18,
   "id": "c160e1f9",
   "metadata": {
    "scrolled": true
   },
   "outputs": [
    {
     "name": "stdout",
     "output_type": "stream",
     "text": [
      "Andy\n",
      "Amy\n",
      "Arthur\n"
     ]
    }
   ],
   "source": [
    "for j in marks.keys():\n",
    "    if 'J' in j:\n",
    "        continue\n",
    "    print(j)"
   ]
  }
 ],
 "metadata": {
  "kernelspec": {
   "display_name": "Python 3 (ipykernel)",
   "language": "python",
   "name": "python3"
  },
  "language_info": {
   "codemirror_mode": {
    "name": "ipython",
    "version": 3
   },
   "file_extension": ".py",
   "mimetype": "text/x-python",
   "name": "python",
   "nbconvert_exporter": "python",
   "pygments_lexer": "ipython3",
   "version": "3.9.13"
  }
 },
 "nbformat": 4,
 "nbformat_minor": 5
}
