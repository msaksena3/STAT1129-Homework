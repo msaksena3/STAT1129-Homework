{
 "cells": [
  {
   "cell_type": "markdown",
   "id": "29688e59",
   "metadata": {},
   "source": [
    "Question 1\n"
   ]
  },
  {
   "cell_type": "code",
   "execution_count": 2,
   "id": "fe06ea32",
   "metadata": {},
   "outputs": [
    {
     "name": "stdout",
     "output_type": "stream",
     "text": [
      "[30, 35, 40, 45, 50, 55, 60]\n"
     ]
    }
   ],
   "source": [
    "numbers = list(range(30,65,5))\n",
    "print(numbers)"
   ]
  },
  {
   "cell_type": "code",
   "execution_count": 6,
   "id": "3e6eb706",
   "metadata": {},
   "outputs": [
    {
     "data": {
      "text/plain": [
       "[60, 55, 50, 45, 40, 35, 30]"
      ]
     },
     "execution_count": 6,
     "metadata": {},
     "output_type": "execute_result"
    }
   ],
   "source": [
    "numbers[::-1]"
   ]
  },
  {
   "cell_type": "code",
   "execution_count": 8,
   "id": "108dff5d",
   "metadata": {},
   "outputs": [
    {
     "name": "stdout",
     "output_type": "stream",
     "text": [
      "[30, 35, 40, 45, 50, 55, 60, 65, 65]\n"
     ]
    }
   ],
   "source": [
    "numbers.append(65)\n",
    "print(numbers)"
   ]
  },
  {
   "cell_type": "code",
   "execution_count": 9,
   "id": "b01c240e",
   "metadata": {},
   "outputs": [
    {
     "data": {
      "text/plain": [
       "[65, 65, 60, 55, 50, 45, 40, 35, 30]"
      ]
     },
     "execution_count": 9,
     "metadata": {},
     "output_type": "execute_result"
    }
   ],
   "source": [
    "numbers[::-1]"
   ]
  },
  {
   "cell_type": "markdown",
   "id": "1f801a17",
   "metadata": {},
   "source": [
    "Question 2"
   ]
  },
  {
   "cell_type": "code",
   "execution_count": 29,
   "id": "c9d31e9b",
   "metadata": {},
   "outputs": [
    {
     "name": "stdout",
     "output_type": "stream",
     "text": [
      "[]\n"
     ]
    }
   ],
   "source": [
    "list2=[]\n",
    "print(list2)"
   ]
  },
  {
   "cell_type": "code",
   "execution_count": 30,
   "id": "9f3b35bc",
   "metadata": {},
   "outputs": [
    {
     "name": "stdout",
     "output_type": "stream",
     "text": [
      "[0]\n"
     ]
    }
   ],
   "source": [
    "list2.append(0)\n",
    "print(list2)"
   ]
  },
  {
   "cell_type": "code",
   "execution_count": 31,
   "id": "6c288d64",
   "metadata": {},
   "outputs": [
    {
     "name": "stdout",
     "output_type": "stream",
     "text": [
      "[0, 1, 2, 3, 4, 5, 6, 7, 8, 9, 10, 11, 12, 13, 14, 15, 16, 17, 18, 19, 20]\n"
     ]
    }
   ],
   "source": [
    "list2.extend(range(1,21))\n",
    "print(list2)"
   ]
  },
  {
   "cell_type": "code",
   "execution_count": 34,
   "id": "f9137101",
   "metadata": {},
   "outputs": [
    {
     "name": "stdout",
     "output_type": "stream",
     "text": [
      "[1, 2, 3, 4, 5, 6, 7, 8, 9, 10, 11, 12, 13, 14, 15, 16, 17, 18, 19, 20]\n"
     ]
    }
   ],
   "source": [
    "list2.remove(0)\n",
    "print(list2)"
   ]
  },
  {
   "cell_type": "code",
   "execution_count": 35,
   "id": "b3f9ea4e",
   "metadata": {},
   "outputs": [
    {
     "name": "stdout",
     "output_type": "stream",
     "text": [
      "20\n",
      "20\n",
      "1\n"
     ]
    }
   ],
   "source": [
    "print(len(list2))\n",
    "print(max(list2))\n",
    "print(min(list2))"
   ]
  },
  {
   "cell_type": "code",
   "execution_count": 36,
   "id": "068bf871",
   "metadata": {},
   "outputs": [
    {
     "name": "stdout",
     "output_type": "stream",
     "text": [
      "210\n"
     ]
    }
   ],
   "source": [
    "print(sum(list2))"
   ]
  },
  {
   "cell_type": "markdown",
   "id": "6f417c99",
   "metadata": {},
   "source": [
    "Question 3"
   ]
  },
  {
   "cell_type": "code",
   "execution_count": 38,
   "id": "bb3eedc7",
   "metadata": {},
   "outputs": [
    {
     "name": "stdout",
     "output_type": "stream",
     "text": [
      "{'sunny': 'play', 'rainy': 'watch TV', 'cloudy': 'walk'}\n"
     ]
    }
   ],
   "source": [
    "weather={\"sunny\":\"play\",\"rainy\":\"watch TV\",\"cloudy\":\"walk\"}\n",
    "print(weather)"
   ]
  },
  {
   "cell_type": "code",
   "execution_count": 41,
   "id": "61851a2a",
   "metadata": {},
   "outputs": [
    {
     "name": "stdout",
     "output_type": "stream",
     "text": [
      "dict_keys(['sunny', 'rainy', 'cloudy'])\n",
      "dict_values(['play', 'watch TV', 'walk'])\n"
     ]
    }
   ],
   "source": [
    "print(weather.keys())\n",
    "print(weather.values())"
   ]
  },
  {
   "cell_type": "code",
   "execution_count": 45,
   "id": "d159c6b3",
   "metadata": {},
   "outputs": [
    {
     "name": "stdout",
     "output_type": "stream",
     "text": [
      "when sunny let us play\n",
      "when rainy let us watch TV\n",
      "when cloudy let us walk\n"
     ]
    }
   ],
   "source": [
    "for n in weather:\n",
    "    print('when',n,'let us',weather[n])"
   ]
  },
  {
   "cell_type": "code",
   "execution_count": 48,
   "id": "56227622",
   "metadata": {},
   "outputs": [
    {
     "name": "stdout",
     "output_type": "stream",
     "text": [
      "{'sunny': 'play', 'rainy': 'watch TV', 'cloudy': 'walk', 'snowy': 'ski'}\n"
     ]
    }
   ],
   "source": [
    "weather.update({'snowy':'ski'})\n",
    "print(weather)"
   ]
  },
  {
   "cell_type": "code",
   "execution_count": 49,
   "id": "18f5484f",
   "metadata": {},
   "outputs": [
    {
     "name": "stdout",
     "output_type": "stream",
     "text": [
      "when sunny let us play\n",
      "when rainy let us watch TV\n",
      "when cloudy let us walk\n",
      "when snowy let us ski\n"
     ]
    }
   ],
   "source": [
    "for n in weather:\n",
    "    print('when',n,'let us',weather[n])"
   ]
  }
 ],
 "metadata": {
  "kernelspec": {
   "display_name": "Python 3 (ipykernel)",
   "language": "python",
   "name": "python3"
  },
  "language_info": {
   "codemirror_mode": {
    "name": "ipython",
    "version": 3
   },
   "file_extension": ".py",
   "mimetype": "text/x-python",
   "name": "python",
   "nbconvert_exporter": "python",
   "pygments_lexer": "ipython3",
   "version": "3.9.13"
  }
 },
 "nbformat": 4,
 "nbformat_minor": 5
}
