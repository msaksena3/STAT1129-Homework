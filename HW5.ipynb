{
 "cells": [
  {
   "cell_type": "markdown",
   "id": "c94aaf23",
   "metadata": {},
   "source": [
    "Question 1"
   ]
  },
  {
   "cell_type": "code",
   "execution_count": 9,
   "id": "bd6b3aa1",
   "metadata": {},
   "outputs": [],
   "source": [
    "class Human:\n",
    "    limbs='Four'\n",
    "    location='Earth'\n",
    "    race='Many'\n",
    "    \n",
    "    def __init__(person, name, age, nationality,gender,height):\n",
    "        person.name=name\n",
    "        person.age=age\n",
    "        person.nationality=nationality\n",
    "        person.gender=gender\n",
    "        person.height=height\n",
    "        \n",
    "A=Human('Anna',32,'British','Female',5.7)\n",
    "B=Human('Drake',18,'Canadian','Male',6.4)"
   ]
  },
  {
   "cell_type": "markdown",
   "id": "57e7b4ef",
   "metadata": {},
   "source": [
    "Question 2"
   ]
  },
  {
   "cell_type": "code",
   "execution_count": 10,
   "id": "f8b04b3a",
   "metadata": {},
   "outputs": [
    {
     "name": "stdout",
     "output_type": "stream",
     "text": [
      "8.602325267042627\n"
     ]
    }
   ],
   "source": [
    "import math\n",
    "class Point:\n",
    "    def __init__(self):\n",
    "        self.x=0\n",
    "        self.y=0\n",
    "        \n",
    "    def distance(self):\n",
    "        return math.sqrt(self.x**2+self.y**2)\n",
    "    \n",
    "p=Point()\n",
    "p.x=5\n",
    "p.y=7\n",
    "distance=p.distance()\n",
    "print(distance)"
   ]
  },
  {
   "cell_type": "markdown",
   "id": "f5b585ad",
   "metadata": {},
   "source": [
    "Question 3 --> A and C"
   ]
  },
  {
   "cell_type": "markdown",
   "id": "dc3c3db7",
   "metadata": {},
   "source": [
    "Question 4 --> hello world"
   ]
  },
  {
   "cell_type": "markdown",
   "id": "84a807b9",
   "metadata": {},
   "source": [
    "Question 5 --> C"
   ]
  },
  {
   "cell_type": "markdown",
   "id": "07c330a9",
   "metadata": {},
   "source": [
    "Question 6 --> it a TypeError with an error message \"Only integers are allowed\""
   ]
  },
  {
   "cell_type": "code",
   "execution_count": null,
   "id": "12cd7a6d",
   "metadata": {},
   "outputs": [],
   "source": []
  },
  {
   "cell_type": "code",
   "execution_count": null,
   "id": "f2a4dea0",
   "metadata": {},
   "outputs": [],
   "source": []
  }
 ],
 "metadata": {
  "kernelspec": {
   "display_name": "Python 3 (ipykernel)",
   "language": "python",
   "name": "python3"
  },
  "language_info": {
   "codemirror_mode": {
    "name": "ipython",
    "version": 3
   },
   "file_extension": ".py",
   "mimetype": "text/x-python",
   "name": "python",
   "nbconvert_exporter": "python",
   "pygments_lexer": "ipython3",
   "version": "3.9.13"
  }
 },
 "nbformat": 4,
 "nbformat_minor": 5
}
