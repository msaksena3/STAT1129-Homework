{
 "cells": [
  {
   "cell_type": "markdown",
   "id": "a4b0ad14",
   "metadata": {},
   "source": [
    "Question 1"
   ]
  },
  {
   "cell_type": "code",
   "execution_count": 1,
   "id": "b9d1bd4c",
   "metadata": {},
   "outputs": [
    {
     "name": "stdout",
     "output_type": "stream",
     "text": [
      "{'Andy': 88, 'Amy': 66, 'James': 90, 'Jules': 55, 'Arthur': 77}\n"
     ]
    }
   ],
   "source": [
    "marks={'Andy':88,'Amy':66,'James':90,'Jules':55,'Arthur':77}\n",
    "print(marks)"
   ]
  },
  {
   "cell_type": "code",
   "execution_count": 2,
   "id": "5114d9a1",
   "metadata": {},
   "outputs": [],
   "source": [
    "def grades(name):\n",
    "    if(names in marks):\n",
    "        print(marks.get(name))\n",
    "    else:\n",
    "        print(\"cannot find this student's name\")"
   ]
  },
  {
   "cell_type": "code",
   "execution_count": 3,
   "id": "3e974de6",
   "metadata": {},
   "outputs": [
    {
     "data": {
      "text/plain": [
       "75.2"
      ]
     },
     "execution_count": 3,
     "metadata": {},
     "output_type": "execute_result"
    }
   ],
   "source": [
    "def average(marks):\n",
    "    sum=0\n",
    "    for k,v in marks.items():\n",
    "        sum=sum+v\n",
    "    return(sum/len(marks))\n",
    "average(marks)"
   ]
  },
  {
   "cell_type": "markdown",
   "id": "e1e37e0e",
   "metadata": {},
   "source": [
    "Question 2"
   ]
  },
  {
   "cell_type": "code",
   "execution_count": 4,
   "id": "ff8d97c7",
   "metadata": {},
   "outputs": [
    {
     "name": "stdout",
     "output_type": "stream",
     "text": [
      "0\n",
      "0\n",
      "1\n",
      "1\n",
      "2\n",
      "4\n",
      "3\n",
      "9\n",
      "4\n",
      "16\n",
      "5\n",
      "25\n",
      "6\n",
      "36\n",
      "7\n",
      "49\n",
      "8\n",
      "64\n",
      "greater than 8\n"
     ]
    }
   ],
   "source": [
    "def squared(num):\n",
    "    n=0\n",
    "    while n<=num:\n",
    "        print(n)\n",
    "        print(n**2)\n",
    "        n+=1\n",
    "    else:\n",
    "        print('greater than',num)\n",
    "squared(8)"
   ]
  },
  {
   "cell_type": "markdown",
   "id": "48bd5b20",
   "metadata": {},
   "source": [
    "Question 3"
   ]
  },
  {
   "cell_type": "code",
   "execution_count": 6,
   "id": "d89f41d6",
   "metadata": {},
   "outputs": [
    {
     "name": "stdout",
     "output_type": "stream",
     "text": [
      "55\n"
     ]
    }
   ],
   "source": [
    "def func(num):\n",
    "    n=1\n",
    "    sum=0\n",
    "    while n<=num:\n",
    "        sum=sum+n\n",
    "        n+=1\n",
    "    print(sum)\n",
    "func(10)"
   ]
  },
  {
   "cell_type": "markdown",
   "id": "243817c9",
   "metadata": {},
   "source": [
    "Question 4"
   ]
  },
  {
   "cell_type": "code",
   "execution_count": 7,
   "id": "09c45d28",
   "metadata": {},
   "outputs": [
    {
     "name": "stdout",
     "output_type": "stream",
     "text": [
      "step 1 sum= 1\n",
      "step 2 sum= 3\n",
      "step 3 sum= 6\n",
      "step 4 sum= 10\n",
      "step 5 sum= 15\n"
     ]
    }
   ],
   "source": [
    "def total(num):\n",
    "    sum=0\n",
    "    for n in range(1,num+1):\n",
    "        sum=sum+n\n",
    "        print('step',n,'sum=',sum)\n",
    "total(5)"
   ]
  },
  {
   "cell_type": "markdown",
   "id": "c7bb8782",
   "metadata": {},
   "source": [
    "Question 5"
   ]
  },
  {
   "cell_type": "code",
   "execution_count": 8,
   "id": "780f77b0",
   "metadata": {},
   "outputs": [
    {
     "name": "stdout",
     "output_type": "stream",
     "text": [
      "sum= 21\n",
      "mean= 3.5\n",
      "standard deviation= 1.8708286933869707\n"
     ]
    }
   ],
   "source": [
    "import statistics\n",
    "def problems(numbers):\n",
    "    if (len(numbers)>=0 or len(numbers) >99):\n",
    "        print('sum=',sum(numbers))\n",
    "        print('mean=',(sum(numbers)/len(numbers)))\n",
    "        print('standard deviation=',statistics.stdev(numbers))\n",
    "    else:\n",
    "        print('not in range')\n",
    "list=[1,2,3,4,5,6]\n",
    "problems(list)"
   ]
  },
  {
   "cell_type": "markdown",
   "id": "2be81725",
   "metadata": {},
   "source": [
    "Question 6"
   ]
  },
  {
   "cell_type": "code",
   "execution_count": 14,
   "id": "614514eb",
   "metadata": {},
   "outputs": [
    {
     "data": {
      "text/plain": [
       "13"
      ]
     },
     "execution_count": 14,
     "metadata": {},
     "output_type": "execute_result"
    }
   ],
   "source": [
    "def minimalfunction(v1,v2,v3,v4):\n",
    "    min_value=v1\n",
    "    if v2<min_value:\n",
    "        min_value=v2\n",
    "    if v3<min_value:\n",
    "        min_value=v3\n",
    "    if v4<min_value:\n",
    "        min_value=v4\n",
    "    return(min_value)\n",
    "minimalfunction(13,16,19,23)"
   ]
  },
  {
   "cell_type": "markdown",
   "id": "6c1ac4c3",
   "metadata": {},
   "source": [
    "Question 7"
   ]
  },
  {
   "cell_type": "code",
   "execution_count": 16,
   "id": "179ce570",
   "metadata": {},
   "outputs": [
    {
     "name": "stdout",
     "output_type": "stream",
     "text": [
      "It is very late and I am very tired. I hope I go to sleep soon\n"
     ]
    }
   ],
   "source": [
    "x='It is very late '\n",
    "y='and I am very tired. '\n",
    "z='I hope I go to sleep soon'\n",
    "s=x+y+z\n",
    "print(s)"
   ]
  },
  {
   "cell_type": "code",
   "execution_count": null,
   "id": "67d7608b",
   "metadata": {},
   "outputs": [],
   "source": []
  }
 ],
 "metadata": {
  "kernelspec": {
   "display_name": "Python 3 (ipykernel)",
   "language": "python",
   "name": "python3"
  },
  "language_info": {
   "codemirror_mode": {
    "name": "ipython",
    "version": 3
   },
   "file_extension": ".py",
   "mimetype": "text/x-python",
   "name": "python",
   "nbconvert_exporter": "python",
   "pygments_lexer": "ipython3",
   "version": "3.9.13"
  }
 },
 "nbformat": 4,
 "nbformat_minor": 5
}
